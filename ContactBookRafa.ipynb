{
 "cells": [
  {
   "cell_type": "code",
   "execution_count": 1,
   "metadata": {},
   "outputs": [],
   "source": [
    "book1={'Rafa':'091557000'} #easy to use, just call usephonebook function and give your phonebook as a parameter(dictionary)\n",
    "deleted_contacts={}"
   ]
  },
  {
   "cell_type": "code",
   "execution_count": 2,
   "metadata": {},
   "outputs": [],
   "source": [
    "def add_contact(phonebook: dict,newname: str,newnumber: str):\n",
    "    if newnumber in phonebook.values():\n",
    "        for name, number in phonebook.items():#additional\n",
    "            \n",
    "            if number == newnumber:\n",
    "                \n",
    "                print(\"This contact already exists:\\n\",name, \":\", number)\n",
    "                return phonebook\n",
    "    else:\n",
    "        \n",
    "        phonebook[newname] = newnumber\n",
    "           \n",
    "        return phonebook"
   ]
  },
  {
   "cell_type": "code",
   "execution_count": 3,
   "metadata": {},
   "outputs": [],
   "source": [
    "def delete_contact(phonebook: dict, name_to_be_deleted: str,backup: dict):\n",
    "    if name_to_be_deleted in phonebook.keys():\n",
    "        backup[name_to_be_deleted]=phonebook[name_to_be_deleted]\n",
    "        del phonebook[name_to_be_deleted]\n",
    "        print('Contact was successfully deleted!')\n",
    "    else:\n",
    "        print('There is no contact with this name!')\n",
    "    "
   ]
  },
  {
   "cell_type": "code",
   "execution_count": 4,
   "metadata": {},
   "outputs": [],
   "source": [
    "def search_contact(phonebook: dict,method: str):\n",
    "    if method=='1':\n",
    "        searchname=input('Name: ')\n",
    "        if searchname in phonebook.keys():\n",
    "            print(searchname,phonebook[searchname])\n",
    "        else:\n",
    "            print('There is no contact with this name')\n",
    "    elif method=='2':\n",
    "        searchnumber=input('Number: ')\n",
    "        if searchnumber in phonebook.values():\n",
    "            for name,number in phonebook.items():\n",
    "                if number==searchnumber:\n",
    "                    print(name,phonebook[name])\n",
    "        else:\n",
    "            print('There is no contact with this number')\n",
    "    else:\n",
    "        print('The method you chose is not correct!')"
   ]
  },
  {
   "cell_type": "code",
   "execution_count": 5,
   "metadata": {},
   "outputs": [],
   "source": [
    "def restore_contact(backup: dict,name_to_be_restored: str,phonebook: dict):#additional\n",
    "    if name_to_be_restored in backup:\n",
    "        phonebook[name_to_be_restored]=backup[name_to_be_restored]\n",
    "        del backup[name_to_be_restored]\n",
    "        print('Contact was successfully restored!')\n",
    "    else:\n",
    "        print('There is no contact with this name in your backup!')\n",
    "        "
   ]
  },
  {
   "cell_type": "code",
   "execution_count": 6,
   "metadata": {},
   "outputs": [],
   "source": [
    "def use_phonebook(phonebook : dict):\n",
    "    answer=input('Choose action:\\n1 for adding new contact\\n2 for deleting a contact\\n3 for searching a contact\\n4 to restore a contact\\n5 to show all contacts\\n6 Exit\\n')\n",
    "\n",
    "    if answer=='1':\n",
    "        newname=input('Name: ')\n",
    "        newnumber=input('Number: ')\n",
    "        add_contact(phonebook,newname,newnumber)\n",
    "    elif answer=='2':\n",
    "        deletename=input('Name: ')\n",
    "        delete_contact(phonebook,deletename,deleted_contacts)\n",
    "    elif answer=='3':\n",
    "        searchmethod=input('\\n1 to search by name\\n2 to search by number\\n')\n",
    "        search_contact(phonebook,searchmethod)\n",
    "    elif answer=='4':\n",
    "        restorename=input('Name: ')\n",
    "        restore_contact(deleted_contacts,restorename,phonebook)\n",
    "    elif answer=='5':\n",
    "        for name,number in phonebook.items():\n",
    "            print(name,number)\n",
    "    else:\n",
    "        print('Thanks for using my phonebook!')\n",
    "        \n"
   ]
  },
  {
   "cell_type": "code",
   "execution_count": null,
   "metadata": {},
   "outputs": [],
   "source": [
    "use_phonebook(book1)"
   ]
  },
  {
   "cell_type": "code",
   "execution_count": null,
   "metadata": {},
   "outputs": [],
   "source": []
  }
 ],
 "metadata": {
  "kernelspec": {
   "display_name": "Python 3",
   "language": "python",
   "name": "python3"
  },
  "language_info": {
   "codemirror_mode": {
    "name": "ipython",
    "version": 3
   },
   "file_extension": ".py",
   "mimetype": "text/x-python",
   "name": "python",
   "nbconvert_exporter": "python",
   "pygments_lexer": "ipython3",
   "version": "3.7.1"
  }
 },
 "nbformat": 4,
 "nbformat_minor": 2
}
